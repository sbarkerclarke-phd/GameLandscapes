{
 "cells": [
  {
   "cell_type": "markdown",
   "metadata": {},
   "source": [
    "# Coding games in Python"
   ]
  },
  {
   "cell_type": "code",
   "execution_count": 10,
   "metadata": {},
   "outputs": [],
   "source": [
    "import numpy as np\n",
    "from matplotlib import pyplot as plt\n",
    "from scipy.stats import mstats\n",
    "import random"
   ]
  },
  {
   "cell_type": "markdown",
   "metadata": {},
   "source": [
    "## Artem's code outline (plot and fit games)"
   ]
  },
  {
   "cell_type": "raw",
   "metadata": {},
   "source": [
    "r_GC = 'c' #colour for R-type cells\n",
    "g_GC = 'm' #colour for G-type cells\n",
    " \n",
    "plt.errorbar(xR,yR,yerr=yR_e,fmt=r_GC+'s',markersize=ms,fillstyle='none')\n",
    "plt.errorbar(xG,yG,yerr=yG_e,fmt=g_GC+'s',markersize=ms,fillstyle='none')\n",
    "\n",
    "[ra,rb], [[rav,rabv],[_,rbv]] = np.polyfit(xR,yR,1,w=1/yR_e**2,full=False,cov=True)\n",
    "[ga,gb], [[gav,gabv],[_,gbv]] = np.polyfit(xG,yG,1,w=1/yG_e**2,full=False,cov=True)\n",
    " \n",
    "plt.plot([0,1],[rb,rb + ra],r_GC+'--')\n",
    "plt.plot([0,1],[gb,gb + ga],g_GC+'--')\n",
    "\n",
    "def FitRightPoint(fit):\n",
    "    out = fit[0] + fit[1]\n",
    "    out_v = fit[2] + fit[3] + 2*fit[4]\n",
    "     \n",
    "    return [out, out_v]\n",
    " \n",
    "def IndepDiff(point1,point2):\n",
    "    out = point1[0] - point2[0]\n",
    "    out_v = point1[1] + point2[1]\n",
    "     \n",
    "    return [out, out_v]\n",
    " \n",
    "def GameCoord(fit_L,fit_R):\n",
    "    point_y = IndepDiff(fit_R[[1,3]],fit_L[[1,3]])\n",
    "    point_x = IndepDiff(FitRightPoint(fit_L),FitRightPoint(fit_R))\n",
    "     \n",
    "    return point_x, point_y\n",
    "    \n",
    "[game_x,gxv],[game_y,gyv] = ...\n",
    "    GameCoord(np.array([ra, rb, rav, rbv, rabv]), np.array([ga, gb, gav, gav,gabv]))\n",
    "game_xe = np.sqrt(gxv) #convert variance to error\n",
    "game_ye = np.sqrt(gyv) #convert variance to error\n",
    " \n",
    "plt.figure() #make a new figure, to avoid overwriting our fitness function plot\n",
    " \n",
    "plt.errorbar(game_x,game_y,xerr = game_xe, yerr = game_ye, fmt='k.')"
   ]
  },
  {
   "cell_type": "markdown",
   "metadata": {},
   "source": [
    "## Generator expressions in python"
   ]
  },
  {
   "cell_type": "raw",
   "metadata": {},
   "source": [
    "ptypes = list()\n",
    "for player in players:\n",
    "    ptypes.append(player.playertype)\n",
    "ptypes = tuple(ptypes)"
   ]
  },
  {
   "cell_type": "markdown",
   "metadata": {},
   "source": [
    "Is the same as"
   ]
  },
  {
   "cell_type": "raw",
   "metadata": {},
   "source": [
    "ptypes = tuple( player.playertype for player in players )"
   ]
  },
  {
   "cell_type": "markdown",
   "metadata": {},
   "source": [
    "### Define random mover game"
   ]
  },
  {
   "cell_type": "code",
   "execution_count": 11,
   "metadata": {},
   "outputs": [],
   "source": [
    "class RandomMover:\n",
    "    def move(self):\n",
    "        return random.uniform(0,1) < 0.5"
   ]
  },
  {
   "cell_type": "markdown",
   "metadata": {},
   "source": [
    "Code the game"
   ]
  },
  {
   "cell_type": "code",
   "execution_count": 182,
   "metadata": {},
   "outputs": [
    {
     "name": "stdout",
     "output_type": "stream",
     "text": [
      "Player1 move:  1 Player1 payoff:  5\n",
      "Player2 move:  0 Player2 payoff:  0\n"
     ]
    }
   ],
   "source": [
    "## GAME: RandomMover\n",
    "# create a payoff matrix and two players\n",
    "PAYOFFMAT = [ [(3,3),(0,5)] , [(5,0),(-1,-1)] ]\n",
    "player1 = RandomMover()\n",
    "player2 = RandomMover()\n",
    "# get a move from each player\n",
    "move1 = player1.move()\n",
    "move2 = player2.move()\n",
    "# retrieve and print the payoffs\n",
    "pay1, pay2 = PAYOFFMAT[move1][move2]\n",
    "print(\"Player1 move: \", int(move1), \"Player1 payoff: \", pay1)\n",
    "print(\"Player2 move: \", int(move2), \"Player2 payoff: \", pay2)"
   ]
  },
  {
   "cell_type": "markdown",
   "metadata": {},
   "source": [
    "Create RandomPlayer class"
   ]
  },
  {
   "cell_type": "code",
   "execution_count": 26,
   "metadata": {},
   "outputs": [],
   "source": [
    "class RandomPlayer:\n",
    "    def __init__(self, p=0.5): #Probability of deflection\n",
    "        self.p_defect = p\n",
    "    def move(self, game): #0 or 1 depending on random number\n",
    "        return random.uniform(0,1) < self.p_defect  \n",
    "    def record(self, game): #Record history\n",
    "        pass"
   ]
  },
  {
   "cell_type": "markdown",
   "metadata": {},
   "source": [
    "Create SimpleGame class"
   ]
  },
  {
   "cell_type": "code",
   "execution_count": 154,
   "metadata": {},
   "outputs": [],
   "source": [
    "class SimpleGame:\n",
    "    def __init__(self, player1, player2, payoffmat):\n",
    "        # initialize instance attributes\n",
    "        self.players = [ player1, player2 ]\n",
    "        self.payoffmat = payoffmat\n",
    "        self.history = list()\n",
    "    def run(self, game_iter=100):\n",
    "        # unpack the two players\n",
    "        player1, player2 = self.players\n",
    "        # each iteration, get new moves and append these to history\n",
    "        for iteration in range(game_iter):\n",
    "            newmoves = player1.move(self), player2.move(self)\n",
    "            self.history.append(newmoves)\n",
    "        # prompt players to record the game played (i.e., 'self')\n",
    "        player1.record(self); player2.record(self)\n",
    "    def payoff(self):\n",
    "        # unpack the two players\n",
    "        player1, player2 = self.players\n",
    "        # generate a payoff pair for each game iteration\n",
    "        payoffs = (self.payoffmat[m1][m2] for (m1,m2) in self.history)\n",
    "        # transpose to get a payoff sequence for each player\n",
    "        pay1, pay2 = [list(tup) for tup in zip(*payoffs)]\n",
    "        # return a mapping of each player to its mean payoff\n",
    "        return { player1:np.mean(pay1), player2:np.mean(pay2) }"
   ]
  },
  {
   "cell_type": "markdown",
   "metadata": {},
   "source": [
    "Create Simple Game with random player"
   ]
  },
  {
   "cell_type": "code",
   "execution_count": 192,
   "metadata": {},
   "outputs": [
    {
     "name": "stdout",
     "output_type": "stream",
     "text": [
      "Player1 payoff:  2.14\n",
      "Player2 payoff:  1.69\n"
     ]
    }
   ],
   "source": [
    "## GAME: SimpleGame with RandomPlayer\n",
    "# create a payoff matrix and two players\n",
    "PAYOFFMAT = [ [(3,3),(0,5)] , [(5,0),(-1,-1)] ]\n",
    "player1 = RandomPlayer(p=0.5)\n",
    "player2 = RandomPlayer(p=0.5)\n",
    "# create and run the game\n",
    "game = SimpleGame(player1, player2, PAYOFFMAT)\n",
    "game.run()\n",
    "# retrieve and print the payoffs\n",
    "payoffs = game.payoff()\n",
    "#history = game.history()\n",
    "print(\"Player1 payoff: \", payoffs[player1])\n",
    "print(\"Player2 payoff: \", payoffs[player2])"
   ]
  },
  {
   "cell_type": "markdown",
   "metadata": {},
   "source": [
    "Create SimplePlayer"
   ]
  },
  {
   "cell_type": "code",
   "execution_count": 194,
   "metadata": {},
   "outputs": [],
   "source": [
    "class SimplePlayer:\n",
    "    def __init__(self, playertype):\n",
    "        self.playertype = playertype\n",
    "        self.reset()\n",
    "    def reset(self):\n",
    "        self.games_played = list()   #empty list\n",
    "        self.players_played = list()  #empty list\n",
    "    def move(self,game):\n",
    "        # delegate move to playertype\n",
    "        return self.playertype.move(self, game)\n",
    "    def record(self, game):\n",
    "        self.games_played.append(game)\n",
    "        opponent = game.opponents[self]\n",
    "        self.players_played.append(opponent)"
   ]
  },
  {
   "cell_type": "markdown",
   "metadata": {},
   "source": [
    "Create a CDI player (reactive)"
   ]
  },
  {
   "cell_type": "code",
   "execution_count": 217,
   "metadata": {},
   "outputs": [],
   "source": [
    "class CDIPlayerType:\n",
    "    def __init__(self, p_cdi=(1,0,0)):\n",
    "        self.p_cdi = p_cdi\n",
    "    def move(self, player, game):\n",
    "        # get opponent and learn her last move\n",
    "        opponent = game.opponents[player]\n",
    "        last_move = game.get_last_move(opponent)\n",
    "        # respond to opponent's last move\n",
    "        if last_move is None:\n",
    "            p_defect = self.p_cdi[-1]\n",
    "        else:\n",
    "            p_defect = self.p_cdi[last_move]\n",
    "        return random.uniform(0,1) < p_defect"
   ]
  },
  {
   "cell_type": "code",
   "execution_count": 218,
   "metadata": {},
   "outputs": [],
   "source": [
    "class CDIGame(SimpleGame):\n",
    "    def __init__(self, player1, player2, payoffmat):\n",
    "        # begin initialization with `__init__` from `SimpleGame`\n",
    "        SimpleGame.__init__(self, player1, player2, payoffmat)\n",
    "        # initialize the new data attribute\n",
    "        self.opponents = {player1:player2, player2:player1}\n",
    "    def get_last_move(self, player):\n",
    "        # if history not empty, return prior move of `player`\n",
    "        if self.history:\n",
    "            player_idx = self.players.index(player)\n",
    "            last_move = self.history[-1][player_idx]\n",
    "        else:\n",
    "            last_move = None\n",
    "        return last_move"
   ]
  },
  {
   "cell_type": "code",
   "execution_count": 236,
   "metadata": {},
   "outputs": [
    {
     "name": "stdout",
     "output_type": "stream",
     "text": [
      "Player1 payoff:  2.0\n",
      "Player2 payoff:  2.0\n"
     ]
    }
   ],
   "source": [
    "## GAME: CDIGame with SimplePlayer\n",
    "# create a payoff matrix and two players (with playertypes)\n",
    "PAYOFFMAT = [ [(3,3),(0,5)] , [(5,0),(1,1)] ]\n",
    "ptype1 = CDIPlayerType()\n",
    "ptype2 = CDIPlayerType()\n",
    "player1 = SimplePlayer(ptype1)\n",
    "player2 = SimplePlayer(ptype2)\n",
    "# create and run the game\n",
    "game = CDIGame(player1, player2, PAYOFFMAT)\n",
    "game.run()\n",
    "# retrieve and print the payoffs\n",
    "payoffs = game.payoff()\n",
    "print(\"Player1 payoff: \", payoffs[player1])\n",
    "print(\"Player2 payoff: \", payoffs[player2])"
   ]
  },
  {
   "cell_type": "markdown",
   "metadata": {},
   "source": [
    "Evolutionary Soup"
   ]
  },
  {
   "cell_type": "code",
   "execution_count": 263,
   "metadata": {},
   "outputs": [],
   "source": [
    "class SoupPlayer(SimplePlayer):\n",
    "    def evolve(self):\n",
    "        self.playertype = self.next_playertype\n",
    "    def get_type(self):\n",
    "        return self.playertype\n",
    "    def get_payoff(self):\n",
    "        return sum( game.payoff()[self] for game in self.games_played )\n",
    "    def choose_next_type(self):\n",
    "        # find the playertype(s) producing the highest score(s)\n",
    "        best_playertypes = topscore_playertypes(self)\n",
    "        # choose randomly from these best playertypes\n",
    "        self.next_playertype = random.choice(best_playertypes)"
   ]
  },
  {
   "cell_type": "code",
   "execution_count": 239,
   "metadata": {},
   "outputs": [],
   "source": [
    "class SoupRound:\n",
    "    def __init__(self, players, payoffmat):\n",
    "        self.players = players\n",
    "        self.payoffmat = payoffmat\n",
    "    def run(self):\n",
    "        payoff_matrix = self.payoffmat\n",
    "        for player1, player2 in random_pairs_of(self.players):\n",
    "            #print(player1, player2)\n",
    "            game = CDIGame(player1, player2, payoff_matrix)\n",
    "            game.run()\n",
    "        "
   ]
  },
  {
   "cell_type": "code",
   "execution_count": 286,
   "metadata": {},
   "outputs": [
    {
     "name": "stdout",
     "output_type": "stream",
     "text": [
      "Game:  0\n",
      "dict_values([3, 3, 1])\n",
      "Game:  1\n",
      "dict_values([3, 2, 2])\n",
      "Game:  2\n",
      "dict_values([2, 1, 4])\n",
      "Game:  3\n",
      "dict_values([3, 4])\n",
      "Game:  4\n",
      "dict_values([7])\n",
      "Game:  5\n",
      "dict_values([7])\n",
      "Game:  6\n",
      "dict_values([7])\n",
      "Game:  7\n",
      "dict_values([7])\n",
      "Game:  8\n",
      "dict_values([7])\n",
      "Game:  9\n",
      "dict_values([7])\n",
      "Player1 payoff:  12.51\n",
      "Player2 payoff:  9.27\n",
      "[]\n",
      "[]\n"
     ]
    }
   ],
   "source": [
    "#SoupGame\n",
    "\n",
    "from collections import defaultdict \n",
    "\n",
    "PAYOFFMAT = [ [(3,3),(0,5)] , [(5,0),(1,1)] ]\n",
    "ptype1 = CDIPlayerType((0,1,0))\n",
    "ptype2 = CDIPlayerType((1,0,1))\n",
    "ptype3 = CDIPlayerType((1,1,1))\n",
    "player1 = SimplePlayer(ptype2)\n",
    "player2 = SimplePlayer(ptype2)\n",
    "players1 = SoupPlayer(ptype1)\n",
    "players2 = SoupPlayer(ptype2)\n",
    "players3 = SoupPlayer(ptype2)\n",
    "players4 = SoupPlayer(ptype1)\n",
    "players5 = SoupPlayer(ptype1)\n",
    "players6 = SoupPlayer(ptype3)\n",
    "players7 = SoupPlayer(ptype2)\n",
    "\n",
    "# create and run the Tournament\n",
    "players = (players1, players2, players3, players4, players5, players6, players7)\n",
    "for i in range(10):\n",
    "    print(\"Game: \", i)\n",
    "    game = SoupRound(players, PAYOFFMAT)\n",
    "    game.run()\n",
    "    print(count_player_types(players).values())\n",
    "    for player in players:\n",
    "        player.choose_next_type()\n",
    "        player.evolve()"
   ]
  },
  {
   "cell_type": "code",
   "execution_count": 273,
   "metadata": {},
   "outputs": [],
   "source": [
    "def mean(seq):  #simplest computation of mean\n",
    "    \"\"\"Return mean of values in `seq`.\"\"\"\n",
    "    n = len(seq)\n",
    "    return sum(seq)/float(n)\n",
    "\n",
    "def transpose(seqseq): #simple 2-dimensional transpose\n",
    "    \"\"\"Return transpose of `seqseq`.\"\"\"\n",
    "    return zip(*seqseq)\n",
    "\n",
    "def topscore_playertypes(player):\n",
    "    \"\"\"Return list of best (maximum payoff) player types.\"\"\"\n",
    "    best_types = [player.playertype]\n",
    "    best_payoff = player.get_payoff()\n",
    "    for opponent in player.players_played:\n",
    "        payoff = opponent.get_payoff()\n",
    "        if payoff > best_payoff:\n",
    "            best_payoff = payoff\n",
    "            best_types = [opponent.playertype]\n",
    "        elif payoff == best_payoff:\n",
    "            best_types.append(opponent.playertype)\n",
    "    return best_types\n",
    "\n",
    "def maxmin_playertypes(player):\n",
    "    \"\"\"Return list of best (maxmin payoff) player types.\"\"\"\n",
    "    # initialize mapping (playertypes -> payoffs)\n",
    "    pt2po = dict()\n",
    "    # find minimum payoff for each encountered playertype\n",
    "    pt2po[ player.playertype ] = player.get_payoff()\n",
    "    for n in player.get_neighbors():\n",
    "        pt, po = n.playertype, n.get_payoff()\n",
    "        try:\n",
    "            if pt2po[pt] > po:\n",
    "                pt2po[pt] = po\n",
    "        except KeyError:\n",
    "            pt2po[pt] = po\n",
    "    # find best playertype (max of minimum payoffs)\n",
    "    maxmin = max( pt2po.itervalues() )\n",
    "    best_playertypes = [ pt for pt in pt2po if pt2po[pt]==maxmin ]\n",
    "    return best_playertypes\n",
    "\n",
    "def random_pairs_of(players):\n",
    "    \"\"\"Return all of players as random pairs.\"\"\"\n",
    "    # copy player list\n",
    "    players = list( players )\n",
    "    # shuffle the new player list in place\n",
    "    random.shuffle(players)\n",
    "    # yield the shuffled players, 2 at a time\n",
    "    player_iter = iter(players)\n",
    "    return zip(player_iter, player_iter)\n",
    "\n",
    "def compute_neighbors(player, grid):\n",
    "    \"\"\"Return neighbors of `player` on `grid`.\"\"\"\n",
    "    player_row, player_col = player.gridlocation\n",
    "    nrows, ncols = grid.nrows, grid.ncols\n",
    "    players2d = grid.players2d\n",
    "    # initialize list of neighbors\n",
    "    neighbors = list()\n",
    "    # append all neighbors to list\n",
    "    for offset in grid.neighborhood:\n",
    "        dc, dr = offset      #note: x,y neighborhood\n",
    "        r = (player_row + dr) % nrows\n",
    "        c = (player_col + dc) % ncols\n",
    "        neighbor = players2d[r][c]\n",
    "        neighbors.append(neighbor)\n",
    "    return neighbors\n",
    "\n",
    "def count_player_types(players):\n",
    "    \"\"\"Return map (playertype -> frequency) for `players`.\"\"\"\n",
    "    ptype_counts = defaultdict(int) #empty dictionary, default count is 0\n",
    "    for player in players:\n",
    "        ptype_counts[ player.playertype ] += 1\n",
    "    return ptype_counts\n"
   ]
  }
 ],
 "metadata": {
  "kernelspec": {
   "display_name": "Python 3",
   "language": "python",
   "name": "python3"
  },
  "language_info": {
   "codemirror_mode": {
    "name": "ipython",
    "version": 3
   },
   "file_extension": ".py",
   "mimetype": "text/x-python",
   "name": "python",
   "nbconvert_exporter": "python",
   "pygments_lexer": "ipython3",
   "version": "3.8.6"
  }
 },
 "nbformat": 4,
 "nbformat_minor": 4
}
