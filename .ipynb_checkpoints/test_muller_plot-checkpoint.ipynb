{
 "cells": [
  {
   "cell_type": "code",
   "execution_count": null,
   "metadata": {},
   "outputs": [],
   "source": [
    "from pymuller import muller\n",
    "import numpy as np\n",
    "import pandas as pd"
   ]
  },
  {
   "cell_type": "code",
   "execution_count": null,
   "metadata": {},
   "outputs": [],
   "source": [
    "#Import counts matrix\n",
    "genotypes = [\"00\",\"01\",\"10\",\"11\"]\n",
    "game0_df = pd.read_csv(\"nogame.csv\")\n",
    "game0_df.columns=genotypes\n",
    "game0_df"
   ]
  },
  {
   "cell_type": "code",
   "execution_count": null,
   "metadata": {},
   "outputs": [],
   "source": [
    "#Import counts matrix\n",
    "genotypes = [\"00\",\"01\",\"10\",\"11\"]\n",
    "game3_df = pd.read_csv(\"game3.csv\")\n",
    "game3_df.columns=genotypes\n",
    "game3_df"
   ]
  },
  {
   "cell_type": "code",
   "execution_count": null,
   "metadata": {},
   "outputs": [],
   "source": [
    "#Import counts matrix\n",
    "genotypes = [\"00\",\"01\",\"10\",\"11\"]\n",
    "game1_df = pd.read_csv(\"game1.csv\")\n",
    "game1_df.columns=genotypes\n",
    "game1_df"
   ]
  },
  {
   "cell_type": "code",
   "execution_count": null,
   "metadata": {},
   "outputs": [],
   "source": [
    "#Import counts matrix\n",
    "genotypes = [\"00\",\"01\",\"10\",\"11\"]\n",
    "game2_df = pd.read_csv(\"game2.csv\")\n",
    "game2_df.columns=genotypes\n",
    "game2_df"
   ]
  },
  {
   "cell_type": "code",
   "execution_count": null,
   "metadata": {},
   "outputs": [],
   "source": [
    "#Import counts matrix\n",
    "genotypes = [\"00\",\"01\",\"10\",\"11\"]\n",
    "game4_df = pd.read_csv(\"game4.csv\")\n",
    "game4_df.columns=genotypes\n",
    "game4_df"
   ]
  },
  {
   "cell_type": "code",
   "execution_count": null,
   "metadata": {},
   "outputs": [],
   "source": [
    "df = game0_df\n",
    "ngens = len(df[\"00\"])\n",
    "IdentityVec = [\"00\", \"01\", \"10\", \"11\"]\n",
    "Gen= list(range(0,ngens))*4\n",
    "ID = list(np.repeat(IdentityVec,ngens))\n",
    "len(ID)\n",
    "d = {\"Generation\": Gen, \"Identity\":ID, \"Population\":list(df[\"00\"])+list(df[\"01\"])+list(df[\"10\"])+list(df[\"11\"])}\n",
    "\n",
    "populations_df = pd.DataFrame(d)\n",
    "adjacency_df=pd.DataFrame({\"Parent\":[\"00\", \"00\", \"01\"], \"Identity\":[\"01\", \"10\", \"11\"]})\n",
    "\n",
    "populations_df.to_csv(\"pop0.csv\")\n",
    "adjacency_df.to_csv(\"edges0.csv\")"
   ]
  },
  {
   "cell_type": "code",
   "execution_count": null,
   "metadata": {},
   "outputs": [],
   "source": [
    "df = game2_df\n",
    "ngens = len(df[\"00\"])\n",
    "IdentityVec = [\"00\", \"01\", \"10\", \"11\"]\n",
    "Gen= list(range(0,ngens))*4\n",
    "ID = list(np.repeat(IdentityVec,ngens))\n",
    "len(ID)\n",
    "d = {\"Generation\": Gen, \"Identity\":ID, \"Population\":list(df[\"00\"])+list(df[\"01\"])+list(df[\"10\"])+list(df[\"11\"])}\n",
    "\n",
    "populations_df = pd.DataFrame(d)\n",
    "adjacency_df=pd.DataFrame({\"Parent\":[\"00\", \"00\", \"01\"], \"Identity\":[\"01\", \"10\", \"11\"]})\n",
    "\n",
    "populations_df.to_csv(\"pop2.csv\")\n",
    "adjacency_df.to_csv(\"edges2.csv\")"
   ]
  },
  {
   "cell_type": "code",
   "execution_count": null,
   "metadata": {},
   "outputs": [],
   "source": [
    "df = game1_df\n",
    "ngens = len(df[\"00\"])\n",
    "IdentityVec = [\"00\", \"01\", \"10\", \"11\"]\n",
    "Gen= list(range(0,ngens))*4\n",
    "ID = list(np.repeat(IdentityVec,ngens))\n",
    "len(ID)\n",
    "d = {\"Generation\": Gen, \"Identity\":ID, \"Population\":list(df[\"00\"])+list(df[\"01\"])+list(df[\"10\"])+list(df[\"11\"])}\n",
    "\n",
    "populations_df = pd.DataFrame(d)\n",
    "adjacency_df=pd.DataFrame({\"Parent\":[\"00\", \"00\", \"01\"], \"Identity\":[\"01\", \"10\", \"11\"]})\n",
    "\n",
    "populations_df.to_csv(\"pop1.csv\")\n",
    "adjacency_df.to_csv(\"edges1.csv\")"
   ]
  },
  {
   "cell_type": "code",
   "execution_count": null,
   "metadata": {},
   "outputs": [],
   "source": [
    "df = game3_df\n",
    "ngens = len(df[\"00\"])\n",
    "IdentityVec = [\"00\", \"01\", \"10\", \"11\"]\n",
    "Gen= list(range(0,ngens))*4\n",
    "ID = list(np.repeat(IdentityVec,ngens))\n",
    "len(ID)\n",
    "d = {\"Generation\": Gen, \"Identity\":ID, \"Population\":list(df[\"00\"])+list(df[\"01\"])+list(df[\"10\"])+list(df[\"11\"])}\n",
    "\n",
    "populations_df = pd.DataFrame(d)\n",
    "adjacency_df=pd.DataFrame({\"Parent\":[\"00\", \"00\", \"01\"], \"Identity\":[\"01\", \"10\", \"11\"]})\n",
    "\n",
    "populations_df.to_csv(\"pop3.csv\")\n",
    "adjacency_df.to_csv(\"edges3.csv\")"
   ]
  },
  {
   "cell_type": "code",
   "execution_count": null,
   "metadata": {},
   "outputs": [],
   "source": [
    "df = game4_df\n",
    "ngens = len(df[\"00\"])\n",
    "IdentityVec = [\"00\", \"01\", \"10\", \"11\"]\n",
    "Gen= list(range(0,ngens))*4\n",
    "ID = list(np.repeat(IdentityVec,ngens))\n",
    "len(ID)\n",
    "d = {\"Generation\": Gen, \"Identity\":ID, \"Population\":list(df[\"00\"])+list(df[\"01\"])+list(df[\"10\"])+list(df[\"11\"])}\n",
    "\n",
    "populations_df = pd.DataFrame(d)\n",
    "adjacency_df=pd.DataFrame({\"Parent\":[\"00\", \"00\", \"01\"], \"Identity\":[\"01\", \"10\", \"11\"]})\n",
    "\n",
    "populations_df.to_csv(\"pop4.csv\")\n",
    "adjacency_df.to_csv(\"edges4.csv\")"
   ]
  },
  {
   "cell_type": "code",
   "execution_count": null,
   "metadata": {},
   "outputs": [],
   "source": [
    "muller(populations_df, adjacency_df, color_by)"
   ]
  },
  {
   "cell_type": "code",
   "execution_count": null,
   "metadata": {},
   "outputs": [],
   "source": []
  }
 ],
 "metadata": {
  "kernelspec": {
   "display_name": "Python 3",
   "language": "python",
   "name": "python3"
  },
  "language_info": {
   "codemirror_mode": {
    "name": "ipython",
    "version": 3
   },
   "file_extension": ".py",
   "mimetype": "text/x-python",
   "name": "python",
   "nbconvert_exporter": "python",
   "pygments_lexer": "ipython3",
   "version": "3.8.6"
  }
 },
 "nbformat": 4,
 "nbformat_minor": 4
}
