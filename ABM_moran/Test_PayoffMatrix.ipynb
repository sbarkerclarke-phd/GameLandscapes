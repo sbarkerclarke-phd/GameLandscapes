{
 "cells": [
  {
   "cell_type": "code",
   "execution_count": 1,
   "id": "monetary-science",
   "metadata": {},
   "outputs": [],
   "source": [
    "import numpy as np"
   ]
  },
  {
   "cell_type": "code",
   "execution_count": 5,
   "id": "infectious-chocolate",
   "metadata": {},
   "outputs": [],
   "source": [
    "N_geno = 4"
   ]
  },
  {
   "cell_type": "code",
   "execution_count": 12,
   "id": "induced-spirituality",
   "metadata": {},
   "outputs": [],
   "source": [
    "payoff_matrix = np.zeros((N_geno, N_geno))"
   ]
  },
  {
   "cell_type": "code",
   "execution_count": 27,
   "id": "junior-shore",
   "metadata": {},
   "outputs": [],
   "source": [
    "f_1 = {'00':1,'01':2,'10':2,'11':3}\n"
   ]
  },
  {
   "cell_type": "code",
   "execution_count": 13,
   "id": "geographic-appraisal",
   "metadata": {},
   "outputs": [],
   "source": [
    "for i in range(N_geno):\n",
    "    payoff_matrix[i][i]=fit_norm[i]"
   ]
  },
  {
   "cell_type": "code",
   "execution_count": 17,
   "id": "understanding-angel",
   "metadata": {},
   "outputs": [
    {
     "data": {
      "text/plain": [
       "array([ 7, 10])"
      ]
     },
     "execution_count": 17,
     "metadata": {},
     "output_type": "execute_result"
    }
   ],
   "source": [
    "a = [1,2]\n",
    "\n",
    "np.dot([1,2], [[1,2],[3,4]])"
   ]
  },
  {
   "cell_type": "code",
   "execution_count": 32,
   "id": "sapphire-morgan",
   "metadata": {},
   "outputs": [
    {
     "name": "stdout",
     "output_type": "stream",
     "text": [
      "1\n",
      "1\n",
      "2\n",
      "2\n"
     ]
    },
    {
     "data": {
      "text/plain": [
       "[1, 2]"
      ]
     },
     "execution_count": 32,
     "metadata": {},
     "output_type": "execute_result"
    }
   ],
   "source": [
    "fit_norm = []\n",
    "j=1\n",
    "genotypes = ['00', '01']\n",
    "for i in genotypes:\n",
    "    print(j)\n",
    "    print(f_1[i])\n",
    "    fit_norm.append(f_1[i])\n",
    "    j=j+1\n",
    "    \n",
    "fit_norm"
   ]
  }
 ],
 "metadata": {
  "kernelspec": {
   "display_name": "Python 3",
   "language": "python",
   "name": "python3"
  },
  "language_info": {
   "codemirror_mode": {
    "name": "ipython",
    "version": 3
   },
   "file_extension": ".py",
   "mimetype": "text/x-python",
   "name": "python",
   "nbconvert_exporter": "python",
   "pygments_lexer": "ipython3",
   "version": "3.8.2"
  }
 },
 "nbformat": 4,
 "nbformat_minor": 5
}
